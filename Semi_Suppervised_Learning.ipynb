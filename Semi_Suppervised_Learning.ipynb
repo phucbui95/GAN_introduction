{
 "cells": [
  {
   "cell_type": "code",
   "execution_count": 1,
   "metadata": {},
   "outputs": [],
   "source": [
    "import time \n",
    "import numpy as np\n",
    "\n",
    "import tensorflow as tf\n",
    "from tensorflow.examples.tutorials.mnist import input_data\n",
    "\n",
    "from matplotlib import pyplot as plt\n",
    "%matplotlib inline"
   ]
  },
  {
   "cell_type": "code",
   "execution_count": 5,
   "metadata": {},
   "outputs": [
    {
     "name": "stdout",
     "output_type": "stream",
     "text": [
      "Extracting mnist_data/train-images-idx3-ubyte.gz\n",
      "Extracting mnist_data/train-labels-idx1-ubyte.gz\n",
      "Extracting mnist_data/t10k-images-idx3-ubyte.gz\n",
      "Extracting mnist_data/t10k-labels-idx1-ubyte.gz\n"
     ]
    }
   ],
   "source": [
    "mnist_data = input_data.read_data_sets('mnist_data')"
   ]
  },
  {
   "cell_type": "code",
   "execution_count": 7,
   "metadata": {},
   "outputs": [],
   "source": [
    "def plot_images(imgs):\n",
    "    r, c = 5, 5\n",
    "    # Rescale images 0 - 1\n",
    "    gen_imgs = 0.5 * imgs + 0.5\n",
    "\n",
    "    fig, axs = plt.subplots(r, c)\n",
    "    cnt = 0\n",
    "    for i in range(r):\n",
    "        for j in range(c):\n",
    "            \n",
    "            axs[i,j].imshow(gen_imgs[cnt, :,:], cmap='gray')\n",
    "            axs[i,j].axis('off')\n",
    "            cnt += 1"
   ]
  },
  {
   "cell_type": "code",
   "execution_count": 14,
   "metadata": {},
   "outputs": [
    {
     "data": {
      "image/png": "[encoded data removed]",
      "text/plain": [
       "<Figure size 432x288 with 25 Axes>"
      ]
     },
     "metadata": {
      "needs_background": "light"
     },
     "output_type": "display_data"
    }
   ],
   "source": [
    "plot_images(mnist_data.train.images.reshape((-1, 28, 28)))"
   ]
  },
  {
   "cell_type": "code",
   "execution_count": 15,
   "metadata": {},
   "outputs": [],
   "source": [
    "imgs = mnist_data.train.images\n",
    "mnist_imgs = imgs.reshape(imgs.shape[0], 28, 28)"
   ]
  },
  {
   "cell_type": "code",
   "execution_count": 16,
   "metadata": {},
   "outputs": [],
   "source": [
    "def normalize_imgs(imgs):\n",
    "    assert imgs.shape[1] == 28 * 28\n",
    "    return (mnist_imgs - 127.5) / 127.5"
   ]
  },
  {
   "cell_type": "code",
   "execution_count": 38,
   "metadata": {},
   "outputs": [],
   "source": [
    "def D(x, dropout_rate, is_training, reuse = True, print_summary = True):\n",
    "    num_classes = 10\n",
    "    with tf.variable_scope('Discriminator', reuse = reuse) as scope:\n",
    "        #layer 1\n",
    "        conv1 = tf.layers.conv2d(x, 32, [5,5], strides=[2,2], padding='same')\n",
    "        lrelu1 = tf.nn.leaky_relu(conv1, alpha=0.2)\n",
    "        dropout1 = tf.layers.dropout(lrelu1, dropout_rate)\n",
    "        \n",
    "        #layer 2\n",
    "        conv2 = tf.layers.conv2d(dropout1, 64, [3,3], strides=[2,2], padding='same')\n",
    "        batch_norm2 = tf.layers.batch_normalization(conv2, training=is_training)\n",
    "        lrelu2 = tf.nn.leaky_relu(conv1, alpha=0.2)\n",
    "        \n",
    "        #layer 3\n",
    "        conv3 = tf.layers.conv2d(lrelu2, 128, [2, 2],\n",
    "                         strides = [2, 2],\n",
    "                         padding = 'same')\n",
    "        batch_norm3 = tf.layers.batch_normalization(conv3, training = is_training)\n",
    "        lrelu3 = tf.maximum(0.2 * batch_norm3, batch_norm3)\n",
    "        dropout3 = tf.layers.dropout(lrelu3, dropout_rate)\n",
    "        #layer 4\n",
    "        conv4 = tf.layers.conv2d(dropout3, 128, [2, 2],\n",
    "                                 strides = [2, 2],\n",
    "                                 padding = 'same')\n",
    "        # do not use batch_normalization on this layer - next layer, \"flatten5\",\n",
    "        # will be used for \"Feature Matching\"\n",
    "        lrelu4 = tf.maximum(0.2 * conv4, conv4)\n",
    "        \n",
    "        flatten_length = lrelu4.get_shape().as_list()[1] * \\\n",
    "                         lrelu4.get_shape().as_list()[2] * lrelu4.get_shape().as_list()[3]\n",
    "        flatten5 = tf.reshape(lrelu4, (-1, flatten_length)) # used for \"Feature Matching\" \n",
    "        fc5 = tf.layers.dense(flatten5, (num_classes + 1))\n",
    "        output = tf.nn.softmax(fc5)\n",
    "\n",
    "        assert output.get_shape()[1:] == [num_classes + 1]\n",
    "        if print_summary:\n",
    "            print('Discriminator summary:\\n x: %s\\n' \\\n",
    "                  ' D1: %s\\n D2: %s\\n D3: %s\\n D4: %s\\n' %(x.get_shape(), \n",
    "                                                           dropout1.get_shape(),\n",
    "                                                           lrelu2.get_shape(), \n",
    "                                                           dropout3.get_shape(),\n",
    "                                                           lrelu4.get_shape()))\n",
    "            \n",
    "        return flatten5, fc5, output"
   ]
  },
  {
   "cell_type": "code",
   "execution_count": 63,
   "metadata": {},
   "outputs": [],
   "source": [
    "def G(z, is_training, reuse = False, print_summary = False):\n",
    "    # generator (z -> x)\n",
    "\n",
    "    with tf.variable_scope('Generator', reuse = reuse) as scope:\n",
    "        # layer 0\n",
    "        z_reshaped = tf.reshape(z, [-1, 1, 1, latent_size])\n",
    "\n",
    "        # layer 1\n",
    "        deconv1 = tf.layers.conv2d_transpose(z_reshaped,\n",
    "                                             filters = latent_size,\n",
    "                                             kernel_size = [2, 2],\n",
    "                                             strides = [1, 1],\n",
    "                                             padding = 'valid')\n",
    "        batch_norm1 = tf.layers.batch_normalization(deconv1, training = is_training)\n",
    "        relu1 = tf.nn.relu(batch_norm1)\n",
    "\n",
    "        # layer 2\n",
    "        deconv2 = tf.layers.conv2d_transpose(relu1,\n",
    "                                             filters = 64,\n",
    "                                             kernel_size = [3, 3],\n",
    "                                             strides = [2, 2],\n",
    "                                             padding = 'valid')\n",
    "        batch_norm2 = tf.layers.batch_normalization(deconv2, training = is_training)\n",
    "        relu2 = tf.nn.relu(batch_norm2)\n",
    "\n",
    "        # layer 3\n",
    "        deconv3 = tf.layers.conv2d_transpose(relu2,\n",
    "                                             filters = 32,\n",
    "                                             kernel_size = [4, 4],\n",
    "                                             strides = [2, 2],\n",
    "                                             padding = 'valid')\n",
    "        batch_norm3 = tf.layers.batch_normalization(deconv3, training = is_training)\n",
    "        relu3 = tf.nn.relu(batch_norm3)\n",
    "\n",
    "        # layer 4 - do not use Batch Normalization on the last layer of Generator\n",
    "        deconv4 = tf.layers.conv2d_transpose(relu3,\n",
    "                                             filters = num_channels,\n",
    "                                             kernel_size = [6, 6],\n",
    "                                             strides = [2, 2],\n",
    "                                             padding = 'valid')\n",
    "        tanh4 = tf.tanh(deconv4)\n",
    "\n",
    "        assert tanh4.get_shape()[1:] == [x_height, x_width, num_channels]\n",
    "        if print_summary:\n",
    "            print('Generator summary:\\n z: %s\\n' \\\n",
    "                  ' G0: %s\\n G1: %s\\n G2: %s\\n G3: %s\\n G4: %s\\n' %(z.get_shape(),\n",
    "                                                                    z_reshaped.get_shape(),\n",
    "                                                                    relu1.get_shape(),\n",
    "                                                                    relu2.get_shape(),\n",
    "                                                                    relu3.get_shape(),\n",
    "                                                                    tanh4.get_shape()))\n",
    "        return tanh4"
   ]
  },
  {
   "cell_type": "code",
   "execution_count": 94,
   "metadata": {},
   "outputs": [
    {
     "name": "stdout",
     "output_type": "stream",
     "text": [
      "Discriminator summary:\n",
      " x: (?, 28, 28, 1)\n",
      " D1: (?, 14, 14, 32)\n",
      " D2: (?, 14, 14, 32)\n",
      " D3: (?, 7, 7, 128)\n",
      " D4: (?, 4, 4, 128)\n",
      "\n",
      "Generator summary:\n",
      " z: (?, 100)\n",
      " G0: (?, 1, 1, 100)\n",
      " G1: (?, 2, 2, 100)\n",
      " G2: (?, 5, 5, 64)\n",
      " G3: (?, 12, 12, 32)\n",
      " G4: (?, 28, 28, 1)\n",
      "\n",
      "Discriminator summary:\n",
      " x: (?, 28, 28, 1)\n",
      " D1: (?, 14, 14, 32)\n",
      " D2: (?, 14, 14, 32)\n",
      " D3: (?, 7, 7, 128)\n",
      " D4: (?, 4, 4, 128)\n",
      "\n"
     ]
    }
   ],
   "source": [
    "def build_model(x_real, z, label, dropout_rate, is_training, print_summary=True):\n",
    "    D_real_features, D_real_prob, D_real_logit = D(x_real, dropout_rate, is_training, print_summary=True, reuse=False)\n",
    "    fakes = G(z, is_training=is_training, print_summary=print_summary, reuse=False)\n",
    "    D_real_features, D_real_prob, D_real_logit = D(fakes, dropout_rate, is_training, print_summary=print_summary, reuse=True)\n",
    "    \n",
    "    return D_real_features, D_real_prob, D_real_logit, D_real_features, D_real_prob, D_real_logit\n",
    "\n",
    "tf.reset_default_graph()\n",
    "num_classes = 10\n",
    "latent_size = 100\n",
    "num_channels = 1\n",
    "x_height = 28\n",
    "x_width = 28\n",
    "\n",
    "x_real = tf.placeholder(shape=[None, 28, 28, 1], dtype=tf.float32)\n",
    "z = tf.placeholder(shape=[None, latent_size], dtype=tf.float32)\n",
    "\n",
    "\n",
    "\n",
    "label = tf.placeholder(shape=[None, num_classes + 1], dtype=tf.float32)\n",
    "dropout_rate = tf.constant(value=0.2, dtype=tf.float32)\n",
    "is_training = tf.constant(True, dtype=tf.bool)\n",
    "\n",
    "D_real_features, D_real_prob, D_real_logit, D_real_features, D_real_prob, D_real_logit = build_model(x_real, z, label, dropout_rate, is_training, print_summary=True)\n",
    "\n",
    "with tf.Session() as sess:\n",
    "    sess.run(tf.global_variables_initializer())\n",
    "    sess"
   ]
  },
  {
   "cell_type": "code",
   "execution_count": 96,
   "metadata": {},
   "outputs": [
    {
     "name": "stdout",
     "output_type": "stream",
     "text": [
      "[[1. 0. 0.]\n",
      " [0. 1. 0.]\n",
      " [1. 1. 0.]]\n"
     ]
    }
   ],
   "source": [
    "def prepare_labels(label):\n",
    "    return tf.concat([label, tf.zeros([tf.shape(label)[0], 1])], 1)\n",
    "\n",
    "def get_labled_mask(labeled_rate, batch_size):\n",
    "    # get labeled mask to mask some data unlabeled\n",
    "    labeled_mask = np.zeros([batch_size], dtype = np.float32)\n",
    "    labeled_count = np.int(batch_size * labeled_rate)\n",
    "    labeled_mask[range(labeled_count)] = 1.0\n",
    "    #np.random.shuffle(labeled_mask)\n",
    "\n",
    "    return labeled_mask\n",
    "\n",
    "const = tf.constant([[1, 0], [0,1], [1, 1]], dtype=tf.float32)\n",
    "a = prepare_labels(const)\n",
    "with tf.Session() as sess:\n",
    "    assert(a.get_shape()[0] == const.get_shape()[0])\n",
    "    assert(a.get_shape()[1] == const.get_shape()[1] + 1)\n",
    "    print(a.eval())"
   ]
  },
  {
   "cell_type": "code",
   "execution_count": 66,
   "metadata": {},
   "outputs": [],
   "source": [
    "def loss_function(D_real_features, D_real_logit, D_real_prob, D_fake_features, D_fake_logit, D_fake_prob, extended_label, labeled_mask):\n",
    "    epsilon = 1e-8\n",
    "    \n",
    "    # Discrimator loss\n",
    "    L_supervised_tmp = tf.nn.softmax_cross_entropy_with_logits(D_real_logit, extended_label)\n",
    "    L_supervised = tf.reduce_sum(labeled_mask * L_supervised_tmp) / tf.reduce_sum(labeled_mask)\n",
    "    \n",
    "    # data is real\n",
    "    prob_real_to_real = 1.0 - D_real_prob[ : , -1] + epsilon\n",
    "    tmp_log_real = - tf.reduce_sum(tf.log(prob_real_to_real))\n",
    "    \n",
    "    prob_fake_to_fake = D_fake_prob[ : , -1] + epsilon\n",
    "    tmp_log_fake = - tf.reduce_sum(tf.log(prob_fake_to_fake))\n",
    "    \n",
    "    L_unsupervised = tmp_log_real + tmp_log_fake\n",
    "    \n",
    "    L_D = L_supervised + L_unsupervised\n",
    "    \n",
    "    # Generator loss\n",
    "    \n",
    "    prob_fake_to_real = 1 - D_fake_prob[:,-1] + epsilon\n",
    "    L_G_ =  - tf.reduce_sum(tf.log(prob_fake_real))\n",
    "    \n",
    "    tmp1 = tf.reduce_mean(D_real_features, axis=0)\n",
    "    tmp2 = tf.reduce_mena(D_fake_features, axis=1)\n",
    "    \n",
    "    L_G_feat = tf.reduce_mean(tf.square(tmp1 - tmp2))\n",
    "    \n",
    "    L_G = L_G_ + L_G_feat\n",
    "    \n",
    "    # accuracy\n",
    "    correct_prediction = tf.equal(tf.argmax(D_real_prob[:, -1]), tf.arg_max(extended_label))\n",
    "    accuracy = tf.reduce_mean(tf.case(correct_prediction, tf.float32))\n",
    "    \n",
    "    return L_supervised, L_unsupervised, L_D, L_G,  accuracy"
   ]
  },
  {
   "cell_type": "code",
   "execution_count": 95,
   "metadata": {},
   "outputs": [],
   "source": [
    "def optimizer(L_D, L_G, D_lr, G_lr):\n",
    "    extra_update_ops = tf.get_collection(tf.GraphKeys.UPDATE_OPS)\n",
    "    with tf.control_dependencies(extra_update_ops):\n",
    "        all_vars = tf.trainable_variables()\n",
    "        \n",
    "        D_vars = [var for var in all_vars if var.name.startswith(\"Discimanator\")]\n",
    "        G_vars = [var for var in all_vars if var.name.startswith(\"Generator\")]\n",
    "        \n",
    "        D_optimizer = tf.train.AdamOptimizer(D_lr).minimize(L_D, var_list = D_vars)\n",
    "        G_optimizer = tf.train.AdamOptimizer(G_lr).minimize(L_G, var_list = G_vars)\n",
    "        \n",
    "        return D_optimizer, G_optimizer"
   ]
  },
  {
   "cell_type": "code",
   "execution_count": 40,
   "metadata": {},
   "outputs": [
    {
     "name": "stdout",
     "output_type": "stream",
     "text": [
      "Discriminator summary:\n",
      " x: (?, 28, 28, 1)\n",
      " D1: (?, 14, 14, 32)\n",
      " D2: (?, 14, 14, 32)\n",
      " D3: (?, 7, 7, 128)\n",
      " D4: (?, 4, 4, 128)\n",
      "\n",
      "[[0.09795775 0.06131464 0.12118444 0.08770289 0.03940316 0.04761093\n",
      "  0.11806776 0.143454   0.06382775 0.08196361 0.13751309]\n",
      " [0.07047343 0.19905777 0.07020228 0.02854647 0.14493899 0.08255848\n",
      "  0.05120336 0.12316027 0.06651125 0.07817858 0.08516911]\n",
      " [0.11947495 0.12559225 0.070233   0.03976812 0.10073313 0.07451557\n",
      "  0.06713982 0.10653196 0.12310825 0.07246795 0.100435  ]\n",
      " [0.0758586  0.10891456 0.09249167 0.0323479  0.06780415 0.12071832\n",
      "  0.07105544 0.09879178 0.06465167 0.11665436 0.15071149]\n",
      " [0.0775812  0.08719668 0.06913411 0.03712842 0.08646975 0.07051375\n",
      "  0.09233648 0.1481484  0.08790158 0.10120428 0.14238536]]\n"
     ]
    }
   ],
   "source": [
    "tf.reset_default_graph()\n",
    "\n",
    "x = tf.placeholder(tf.float32, name='x', shape=[None, 28, 28, 1])\n",
    "_, _, output = D(x, dropout_rate=0.5, is_training=True, reuse=False)\n",
    "\n",
    "data = mnist_data.train.images.reshape((-1, 28, 28, 1))[:5]\n",
    "with tf.Session() as sess:\n",
    "    sess.run(tf.global_variables_initializer())\n",
    "    print(sess.run(output, feed_dict={x : data}))"
   ]
  },
  {
   "cell_type": "code",
   "execution_count": 62,
   "metadata": {},
   "outputs": [],
   "source": [
    "def train():\n",
    "    tf.reset_default_graph()\n",
    "    \n",
    "    epochs = 2\n",
    "    labeled_rate = 0.1\n",
    "    \n",
    "    x = tf.placeholder(tf.float32, name=\"x\", shape=[None, 28, 28, 1])\n",
    "    label = tf.placeholder(tf.float32, name=\"label\", shape=[None, num_classes])\n",
    "    extended_label = tf.placeholder(tf.float32, name=\"ext_label\", shape=[None, num_classes + 1])\n",
    "    \n",
    "    mask = tf.placeholder(tf.float32, name=\"mask\", shape=[None, num_classes + 1])\n",
    "    \n",
    "    noise = tf.placeholder(tf.float32, name=\"noise\", shape=[None, latent_size])\n",
    "    dropout_rate = tf.constant(tf.float32, name=\"dropout_rate\")\n",
    "    is_training = tf.constant(tf.bool, name=\"is_training\")\n",
    "    \n",
    "    D_real_features, D_real_prob, D_real_logit, D_real_features, D_real_prob, D_real_logit = build_model(x_real, z, label, dropout_rate, is_training, print_summary=True)\n",
    "    \n",
    "    L_supervised, L_unsupervised, L_D, L_G,  accuracy = loss_function(D_real_features, D_real_prob, D_real_logit, D_real_features, D_real_prob, D_real_logit, extended_label, mask)\n",
    "    G_lr = tf.placeholder(tf.float32, name = 'G_learning_rate')\n",
    "    D_lr = tf.placeholder(tf.float32, name = 'D_learning_rate')\n",
    "    D_opt, G_opt = optimizer(L_D, L_G, G_learning_rate, D_learning_rate)\n",
    "    \n",
    "    with tf.Session() as sess:\n",
    "        sess.run(tf.global_variables_initializer())\n",
    "        mnist_dataset = get_data()\n",
    "        \n",
    "        for epoch in range(epochs):\n",
    "            \n",
    "            batch = mnist_dataset.train.next_batch(batch_size, shuffle = False) ## No shuffle here\n",
    "            batch_z = np.random.uniform(-1, 1, size=(batch_size, latent_size))\n",
    "            \n",
    "            mask = get_labled_mask(labeled_rate, batch_size)\n",
    "            \n",
    "            train_feed_dict = {\n",
    "                x : normalize_imgs(batch[1]),\n",
    "                label : batch[1],\n",
    "                noise : batch_z,\n",
    "                \n",
    "                dropout_rate : 0.5,\n",
    "                G_lr : 1e-5,\n",
    "                D_lr : 1e-5,\n",
    "                is_training : True\n",
    "            }\n",
    "            \n",
    "            \n",
    "        \n",
    "        "
   ]
  },
  {
   "cell_type": "code",
   "execution_count": 51,
   "metadata": {},
   "outputs": [
    {
     "name": "stdout",
     "output_type": "stream",
     "text": [
      "/Users/admin/Keras-GAN/venv/bin/python\n"
     ]
    }
   ],
   "source": []
  },
  {
   "cell_type": "code",
   "execution_count": null,
   "metadata": {},
   "outputs": [],
   "source": []
  }
 ],
 "metadata": {
  "kernelspec": {
   "display_name": "projectname",
   "language": "python",
   "name": "projectname"
  },
  "language_info": {
   "codemirror_mode": {
    "name": "ipython",
    "version": 3
   },
   "file_extension": ".py",
   "mimetype": "text/x-python",
   "name": "python",
   "nbconvert_exporter": "python",
   "pygments_lexer": "ipython3",
   "version": "3.6.5"
  }
 },
 "nbformat": 4,
 "nbformat_minor": 2
}
